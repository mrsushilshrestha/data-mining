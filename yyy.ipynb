{
 "cells": [
  {
   "cell_type": "raw",
   "id": "50eb2c4c-e235-4b7c-9a42-792f0fe92b31",
   "metadata": {},
   "source": [
    "pip install mlxtend"
   ]
  },
  {
   "cell_type": "code",
   "execution_count": null,
   "id": "960fdf12-1a18-4588-912e-52a0ede2255e",
   "metadata": {},
   "outputs": [],
   "source": []
  },
  {
   "cell_type": "code",
   "execution_count": 5,
   "id": "a30eb7d5-591e-4ab9-a3a4-dc97bad3de93",
   "metadata": {},
   "outputs": [],
   "source": [
    "from mlxtend.frequent_patterns import apriori\n",
    "from mlxtend.frequent_patterns import association_rules\n",
    "import pandas as pd"
   ]
  },
  {
   "cell_type": "code",
   "execution_count": 23,
   "id": "f1d92e1f-041a-4285-ac29-fe71e6d8c709",
   "metadata": {},
   "outputs": [],
   "source": [
    "de=pd.read_csv(\"Market_Basket_Optimisation.csv\")"
   ]
  },
  {
   "cell_type": "code",
   "execution_count": 25,
   "id": "562eb634-0acf-43ab-a3e7-79691d3495ff",
   "metadata": {},
   "outputs": [],
   "source": [
    "transactions = de.stack().groupby(level=0).apply(list)\n",
    "\n",
    "all_items = set(item for sublist in transactions for item in sublist)\n",
    "\n",
    "binary_matrix = pd.DataFrame(\n",
    "    {item: [item in transaction for transaction in transactions] for item in all_items}\n",
    ")"
   ]
  },
  {
   "cell_type": "code",
   "execution_count": 26,
   "id": "71ce0e32-9af0-498a-804c-b90e1d2fb856",
   "metadata": {},
   "outputs": [
    {
     "name": "stdout",
     "output_type": "stream",
     "text": [
      "      butter  water spray  mint green tea  vegetables mix  mineral water  \\\n",
      "0      False        False           False           False          False   \n",
      "1      False        False           False           False          False   \n",
      "2      False        False           False           False          False   \n",
      "3      False        False           False           False           True   \n",
      "4      False        False           False           False          False   \n",
      "...      ...          ...             ...             ...            ...   \n",
      "7495    True        False           False           False          False   \n",
      "7496   False        False           False           False          False   \n",
      "7497   False        False           False           False          False   \n",
      "7498   False        False           False           False          False   \n",
      "7499   False        False           False           False          False   \n",
      "\n",
      "      tomato juice  spinach    ham  cereals   soup  ...  clothes accessories  \\\n",
      "0            False    False  False    False  False  ...                False   \n",
      "1            False    False  False    False  False  ...                False   \n",
      "2            False    False  False    False  False  ...                False   \n",
      "3            False    False  False    False  False  ...                False   \n",
      "4            False    False  False    False  False  ...                False   \n",
      "...            ...      ...    ...      ...    ...  ...                  ...   \n",
      "7495         False    False  False    False  False  ...                False   \n",
      "7496         False    False  False    False  False  ...                False   \n",
      "7497         False    False  False    False  False  ...                False   \n",
      "7498         False    False  False    False  False  ...                False   \n",
      "7499         False    False  False    False  False  ...                False   \n",
      "\n",
      "      escalope   gums  eggplant  flax seed  shallot  cookies  ground beef  \\\n",
      "0        False  False     False      False    False    False        False   \n",
      "1        False  False     False      False    False    False        False   \n",
      "2        False  False     False      False    False    False        False   \n",
      "3        False  False     False      False    False    False        False   \n",
      "4        False  False     False      False    False    False        False   \n",
      "...        ...    ...       ...        ...      ...      ...          ...   \n",
      "7495     False  False     False      False    False    False        False   \n",
      "7496     False  False     False      False    False    False        False   \n",
      "7497     False  False     False      False    False    False        False   \n",
      "7498      True  False     False      False    False    False        False   \n",
      "7499     False  False     False      False    False    False        False   \n",
      "\n",
      "      body spray  honey  \n",
      "0          False  False  \n",
      "1          False  False  \n",
      "2          False  False  \n",
      "3          False  False  \n",
      "4          False  False  \n",
      "...          ...    ...  \n",
      "7495       False  False  \n",
      "7496       False  False  \n",
      "7497       False  False  \n",
      "7498       False  False  \n",
      "7499       False  False  \n",
      "\n",
      "[7500 rows x 120 columns]\n"
     ]
    }
   ],
   "source": [
    "print(binary_matrix)"
   ]
  },
  {
   "cell_type": "code",
   "execution_count": null,
   "id": "7a8bf2fa-7dcd-4c18-be4f-f136fb95a1da",
   "metadata": {},
   "outputs": [],
   "source": []
  }
 ],
 "metadata": {
  "kernelspec": {
   "display_name": "Python 3 (ipykernel)",
   "language": "python",
   "name": "python3"
  },
  "language_info": {
   "codemirror_mode": {
    "name": "ipython",
    "version": 3
   },
   "file_extension": ".py",
   "mimetype": "text/x-python",
   "name": "python",
   "nbconvert_exporter": "python",
   "pygments_lexer": "ipython3",
   "version": "3.12.7"
  }
 },
 "nbformat": 4,
 "nbformat_minor": 5
}
